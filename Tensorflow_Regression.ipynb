{
 "cells": [
  {
   "cell_type": "code",
   "execution_count": 1,
   "metadata": {},
   "outputs": [],
   "source": [
    "import pandas as pd"
   ]
  },
  {
   "cell_type": "code",
   "execution_count": 2,
   "metadata": {},
   "outputs": [],
   "source": [
    "housing = pd.read_csv(\"house_pricing.csv\")"
   ]
  },
  {
   "cell_type": "code",
   "execution_count": 3,
   "metadata": {},
   "outputs": [
    {
     "data": {
      "text/html": [
       "<div>\n",
       "<style scoped>\n",
       "    .dataframe tbody tr th:only-of-type {\n",
       "        vertical-align: middle;\n",
       "    }\n",
       "\n",
       "    .dataframe tbody tr th {\n",
       "        vertical-align: top;\n",
       "    }\n",
       "\n",
       "    .dataframe thead th {\n",
       "        text-align: right;\n",
       "    }\n",
       "</style>\n",
       "<table border=\"1\" class=\"dataframe\">\n",
       "  <thead>\n",
       "    <tr style=\"text-align: right;\">\n",
       "      <th></th>\n",
       "      <th>housingMedianAge</th>\n",
       "      <th>totalRooms</th>\n",
       "      <th>totalBedrooms</th>\n",
       "      <th>population</th>\n",
       "      <th>households</th>\n",
       "      <th>medianIncome</th>\n",
       "      <th>medianHouseValue</th>\n",
       "    </tr>\n",
       "  </thead>\n",
       "  <tbody>\n",
       "    <tr>\n",
       "      <th>0</th>\n",
       "      <td>41.0</td>\n",
       "      <td>880.0</td>\n",
       "      <td>129.0</td>\n",
       "      <td>322.0</td>\n",
       "      <td>126.0</td>\n",
       "      <td>8.3252</td>\n",
       "      <td>452600.0</td>\n",
       "    </tr>\n",
       "    <tr>\n",
       "      <th>1</th>\n",
       "      <td>21.0</td>\n",
       "      <td>7099.0</td>\n",
       "      <td>1106.0</td>\n",
       "      <td>2401.0</td>\n",
       "      <td>1138.0</td>\n",
       "      <td>8.3014</td>\n",
       "      <td>358500.0</td>\n",
       "    </tr>\n",
       "    <tr>\n",
       "      <th>2</th>\n",
       "      <td>52.0</td>\n",
       "      <td>1467.0</td>\n",
       "      <td>190.0</td>\n",
       "      <td>496.0</td>\n",
       "      <td>177.0</td>\n",
       "      <td>7.2574</td>\n",
       "      <td>352100.0</td>\n",
       "    </tr>\n",
       "    <tr>\n",
       "      <th>3</th>\n",
       "      <td>52.0</td>\n",
       "      <td>1274.0</td>\n",
       "      <td>235.0</td>\n",
       "      <td>558.0</td>\n",
       "      <td>219.0</td>\n",
       "      <td>5.6431</td>\n",
       "      <td>341300.0</td>\n",
       "    </tr>\n",
       "    <tr>\n",
       "      <th>4</th>\n",
       "      <td>52.0</td>\n",
       "      <td>1627.0</td>\n",
       "      <td>280.0</td>\n",
       "      <td>565.0</td>\n",
       "      <td>259.0</td>\n",
       "      <td>3.8462</td>\n",
       "      <td>342200.0</td>\n",
       "    </tr>\n",
       "  </tbody>\n",
       "</table>\n",
       "</div>"
      ],
      "text/plain": [
       "   housingMedianAge  totalRooms  totalBedrooms  population  households  \\\n",
       "0              41.0       880.0          129.0       322.0       126.0   \n",
       "1              21.0      7099.0         1106.0      2401.0      1138.0   \n",
       "2              52.0      1467.0          190.0       496.0       177.0   \n",
       "3              52.0      1274.0          235.0       558.0       219.0   \n",
       "4              52.0      1627.0          280.0       565.0       259.0   \n",
       "\n",
       "   medianIncome  medianHouseValue  \n",
       "0        8.3252          452600.0  \n",
       "1        8.3014          358500.0  \n",
       "2        7.2574          352100.0  \n",
       "3        5.6431          341300.0  \n",
       "4        3.8462          342200.0  "
      ]
     },
     "execution_count": 3,
     "metadata": {},
     "output_type": "execute_result"
    }
   ],
   "source": [
    "housing.head()"
   ]
  },
  {
   "cell_type": "code",
   "execution_count": 4,
   "metadata": {},
   "outputs": [
    {
     "data": {
      "text/html": [
       "<div>\n",
       "<style scoped>\n",
       "    .dataframe tbody tr th:only-of-type {\n",
       "        vertical-align: middle;\n",
       "    }\n",
       "\n",
       "    .dataframe tbody tr th {\n",
       "        vertical-align: top;\n",
       "    }\n",
       "\n",
       "    .dataframe thead th {\n",
       "        text-align: right;\n",
       "    }\n",
       "</style>\n",
       "<table border=\"1\" class=\"dataframe\">\n",
       "  <thead>\n",
       "    <tr style=\"text-align: right;\">\n",
       "      <th></th>\n",
       "      <th>count</th>\n",
       "      <th>mean</th>\n",
       "      <th>std</th>\n",
       "      <th>min</th>\n",
       "      <th>25%</th>\n",
       "      <th>50%</th>\n",
       "      <th>75%</th>\n",
       "      <th>max</th>\n",
       "    </tr>\n",
       "  </thead>\n",
       "  <tbody>\n",
       "    <tr>\n",
       "      <th>housingMedianAge</th>\n",
       "      <td>20640.0</td>\n",
       "      <td>28.639486</td>\n",
       "      <td>12.585558</td>\n",
       "      <td>1.0000</td>\n",
       "      <td>18.0000</td>\n",
       "      <td>29.0000</td>\n",
       "      <td>37.00000</td>\n",
       "      <td>52.0000</td>\n",
       "    </tr>\n",
       "    <tr>\n",
       "      <th>totalRooms</th>\n",
       "      <td>20640.0</td>\n",
       "      <td>2635.763081</td>\n",
       "      <td>2181.615252</td>\n",
       "      <td>2.0000</td>\n",
       "      <td>1447.7500</td>\n",
       "      <td>2127.0000</td>\n",
       "      <td>3148.00000</td>\n",
       "      <td>39320.0000</td>\n",
       "    </tr>\n",
       "    <tr>\n",
       "      <th>totalBedrooms</th>\n",
       "      <td>20640.0</td>\n",
       "      <td>537.898014</td>\n",
       "      <td>421.247906</td>\n",
       "      <td>1.0000</td>\n",
       "      <td>295.0000</td>\n",
       "      <td>435.0000</td>\n",
       "      <td>647.00000</td>\n",
       "      <td>6445.0000</td>\n",
       "    </tr>\n",
       "    <tr>\n",
       "      <th>population</th>\n",
       "      <td>20640.0</td>\n",
       "      <td>1425.476744</td>\n",
       "      <td>1132.462122</td>\n",
       "      <td>3.0000</td>\n",
       "      <td>787.0000</td>\n",
       "      <td>1166.0000</td>\n",
       "      <td>1725.00000</td>\n",
       "      <td>35682.0000</td>\n",
       "    </tr>\n",
       "    <tr>\n",
       "      <th>households</th>\n",
       "      <td>20640.0</td>\n",
       "      <td>499.539680</td>\n",
       "      <td>382.329753</td>\n",
       "      <td>1.0000</td>\n",
       "      <td>280.0000</td>\n",
       "      <td>409.0000</td>\n",
       "      <td>605.00000</td>\n",
       "      <td>6082.0000</td>\n",
       "    </tr>\n",
       "    <tr>\n",
       "      <th>medianIncome</th>\n",
       "      <td>20640.0</td>\n",
       "      <td>3.870671</td>\n",
       "      <td>1.899822</td>\n",
       "      <td>0.4999</td>\n",
       "      <td>2.5634</td>\n",
       "      <td>3.5348</td>\n",
       "      <td>4.74325</td>\n",
       "      <td>15.0001</td>\n",
       "    </tr>\n",
       "    <tr>\n",
       "      <th>medianHouseValue</th>\n",
       "      <td>20640.0</td>\n",
       "      <td>206855.816909</td>\n",
       "      <td>115395.615874</td>\n",
       "      <td>14999.0000</td>\n",
       "      <td>119600.0000</td>\n",
       "      <td>179700.0000</td>\n",
       "      <td>264725.00000</td>\n",
       "      <td>500001.0000</td>\n",
       "    </tr>\n",
       "  </tbody>\n",
       "</table>\n",
       "</div>"
      ],
      "text/plain": [
       "                    count           mean            std         min  \\\n",
       "housingMedianAge  20640.0      28.639486      12.585558      1.0000   \n",
       "totalRooms        20640.0    2635.763081    2181.615252      2.0000   \n",
       "totalBedrooms     20640.0     537.898014     421.247906      1.0000   \n",
       "population        20640.0    1425.476744    1132.462122      3.0000   \n",
       "households        20640.0     499.539680     382.329753      1.0000   \n",
       "medianIncome      20640.0       3.870671       1.899822      0.4999   \n",
       "medianHouseValue  20640.0  206855.816909  115395.615874  14999.0000   \n",
       "\n",
       "                          25%          50%           75%          max  \n",
       "housingMedianAge      18.0000      29.0000      37.00000      52.0000  \n",
       "totalRooms          1447.7500    2127.0000    3148.00000   39320.0000  \n",
       "totalBedrooms        295.0000     435.0000     647.00000    6445.0000  \n",
       "population           787.0000    1166.0000    1725.00000   35682.0000  \n",
       "households           280.0000     409.0000     605.00000    6082.0000  \n",
       "medianIncome           2.5634       3.5348       4.74325      15.0001  \n",
       "medianHouseValue  119600.0000  179700.0000  264725.00000  500001.0000  "
      ]
     },
     "execution_count": 4,
     "metadata": {},
     "output_type": "execute_result"
    }
   ],
   "source": [
    "housing.describe().transpose()"
   ]
  },
  {
   "cell_type": "code",
   "execution_count": 5,
   "metadata": {},
   "outputs": [],
   "source": [
    "x_data = housing.drop(['medianHouseValue'], axis= 1)"
   ]
  },
  {
   "cell_type": "code",
   "execution_count": 6,
   "metadata": {},
   "outputs": [],
   "source": [
    "y_val = housing['medianHouseValue']"
   ]
  },
  {
   "cell_type": "code",
   "execution_count": 7,
   "metadata": {},
   "outputs": [],
   "source": [
    "from sklearn.model_selection import train_test_split"
   ]
  },
  {
   "cell_type": "code",
   "execution_count": 8,
   "metadata": {},
   "outputs": [],
   "source": [
    "X_train, X_test, y_train, y_test = train_test_split(x_data, y_val, test_size=0.3, random_state=101)"
   ]
  },
  {
   "cell_type": "code",
   "execution_count": 9,
   "metadata": {},
   "outputs": [],
   "source": [
    "from sklearn.preprocessing import MinMaxScaler"
   ]
  },
  {
   "cell_type": "code",
   "execution_count": 10,
   "metadata": {},
   "outputs": [],
   "source": [
    "scaler = MinMaxScaler()"
   ]
  },
  {
   "cell_type": "code",
   "execution_count": 11,
   "metadata": {},
   "outputs": [
    {
     "data": {
      "text/plain": [
       "MinMaxScaler(copy=True, feature_range=(0, 1))"
      ]
     },
     "execution_count": 11,
     "metadata": {},
     "output_type": "execute_result"
    }
   ],
   "source": [
    "scaler.fit(X_train)"
   ]
  },
  {
   "cell_type": "code",
   "execution_count": 12,
   "metadata": {},
   "outputs": [
    {
     "data": {
      "text/html": [
       "<div>\n",
       "<style scoped>\n",
       "    .dataframe tbody tr th:only-of-type {\n",
       "        vertical-align: middle;\n",
       "    }\n",
       "\n",
       "    .dataframe tbody tr th {\n",
       "        vertical-align: top;\n",
       "    }\n",
       "\n",
       "    .dataframe thead th {\n",
       "        text-align: right;\n",
       "    }\n",
       "</style>\n",
       "<table border=\"1\" class=\"dataframe\">\n",
       "  <thead>\n",
       "    <tr style=\"text-align: right;\">\n",
       "      <th></th>\n",
       "      <th>housingMedianAge</th>\n",
       "      <th>totalRooms</th>\n",
       "      <th>totalBedrooms</th>\n",
       "      <th>population</th>\n",
       "      <th>households</th>\n",
       "      <th>medianIncome</th>\n",
       "    </tr>\n",
       "  </thead>\n",
       "  <tbody>\n",
       "    <tr>\n",
       "      <th>6761</th>\n",
       "      <td>0.352941</td>\n",
       "      <td>0.069688</td>\n",
       "      <td>0.117163</td>\n",
       "      <td>0.048769</td>\n",
       "      <td>0.115442</td>\n",
       "      <td>0.142508</td>\n",
       "    </tr>\n",
       "    <tr>\n",
       "      <th>3010</th>\n",
       "      <td>0.607843</td>\n",
       "      <td>0.011242</td>\n",
       "      <td>0.015673</td>\n",
       "      <td>0.008367</td>\n",
       "      <td>0.014142</td>\n",
       "      <td>0.045027</td>\n",
       "    </tr>\n",
       "    <tr>\n",
       "      <th>7812</th>\n",
       "      <td>0.666667</td>\n",
       "      <td>0.025230</td>\n",
       "      <td>0.031347</td>\n",
       "      <td>0.020971</td>\n",
       "      <td>0.030258</td>\n",
       "      <td>0.212866</td>\n",
       "    </tr>\n",
       "    <tr>\n",
       "      <th>8480</th>\n",
       "      <td>0.666667</td>\n",
       "      <td>0.032530</td>\n",
       "      <td>0.033830</td>\n",
       "      <td>0.024752</td>\n",
       "      <td>0.030094</td>\n",
       "      <td>0.298651</td>\n",
       "    </tr>\n",
       "    <tr>\n",
       "      <th>1051</th>\n",
       "      <td>0.294118</td>\n",
       "      <td>0.031919</td>\n",
       "      <td>0.035692</td>\n",
       "      <td>0.019466</td>\n",
       "      <td>0.034863</td>\n",
       "      <td>0.272631</td>\n",
       "    </tr>\n",
       "  </tbody>\n",
       "</table>\n",
       "</div>"
      ],
      "text/plain": [
       "      housingMedianAge  totalRooms  totalBedrooms  population  households  \\\n",
       "6761          0.352941    0.069688       0.117163    0.048769    0.115442   \n",
       "3010          0.607843    0.011242       0.015673    0.008367    0.014142   \n",
       "7812          0.666667    0.025230       0.031347    0.020971    0.030258   \n",
       "8480          0.666667    0.032530       0.033830    0.024752    0.030094   \n",
       "1051          0.294118    0.031919       0.035692    0.019466    0.034863   \n",
       "\n",
       "      medianIncome  \n",
       "6761      0.142508  \n",
       "3010      0.045027  \n",
       "7812      0.212866  \n",
       "8480      0.298651  \n",
       "1051      0.272631  "
      ]
     },
     "execution_count": 12,
     "metadata": {},
     "output_type": "execute_result"
    }
   ],
   "source": [
    "X_train = pd.DataFrame(data=scaler.transform(X_train), columns=X_train.columns, index=X_train.index)\n",
    "X_train.head()"
   ]
  },
  {
   "cell_type": "code",
   "execution_count": 13,
   "metadata": {},
   "outputs": [],
   "source": [
    "X_test = pd.DataFrame(data=scaler.transform(X_test), columns=X_test.columns, index=X_test.index)"
   ]
  },
  {
   "cell_type": "code",
   "execution_count": 14,
   "metadata": {},
   "outputs": [
    {
     "data": {
      "text/plain": [
       "Index(['housingMedianAge', 'totalRooms', 'totalBedrooms', 'population',\n",
       "       'households', 'medianIncome', 'medianHouseValue'],\n",
       "      dtype='object')"
      ]
     },
     "execution_count": 14,
     "metadata": {},
     "output_type": "execute_result"
    }
   ],
   "source": [
    "housing.columns"
   ]
  },
  {
   "cell_type": "code",
   "execution_count": 15,
   "metadata": {},
   "outputs": [],
   "source": [
    "import tensorflow as tf"
   ]
  },
  {
   "cell_type": "code",
   "execution_count": 16,
   "metadata": {},
   "outputs": [],
   "source": [
    "age = tf.feature_column.numeric_column('housingMedianAge')\n",
    "room = tf.feature_column.numeric_column('totalRooms')\n",
    "bedroom = tf.feature_column.numeric_column('totalBedrooms')\n",
    "pop = tf.feature_column.numeric_column('population')\n",
    "households = tf.feature_column.numeric_column('households')\n",
    "income = tf.feature_column.numeric_column('medianIncome')"
   ]
  },
  {
   "cell_type": "code",
   "execution_count": 17,
   "metadata": {},
   "outputs": [],
   "source": [
    "feat_cols = [age,room,bedroom,pop,households,income]"
   ]
  },
  {
   "cell_type": "code",
   "execution_count": 18,
   "metadata": {},
   "outputs": [],
   "source": [
    "input_func = tf.estimator.inputs.pandas_input_fn(x=X_train,y=y_train,batch_size=10,num_epochs=1000,shuffle=True)"
   ]
  },
  {
   "cell_type": "code",
   "execution_count": 37,
   "metadata": {},
   "outputs": [
    {
     "name": "stdout",
     "output_type": "stream",
     "text": [
      "INFO:tensorflow:Using default config.\n",
      "WARNING:tensorflow:Using temporary folder as model directory: C:\\Users\\DELL\\AppData\\Local\\Temp\\tmpid68a6x5\n",
      "INFO:tensorflow:Using config: {'_model_dir': 'C:\\\\Users\\\\DELL\\\\AppData\\\\Local\\\\Temp\\\\tmpid68a6x5', '_tf_random_seed': None, '_save_summary_steps': 100, '_save_checkpoints_steps': None, '_save_checkpoints_secs': 600, '_session_config': allow_soft_placement: true\n",
      "graph_options {\n",
      "  rewrite_options {\n",
      "    meta_optimizer_iterations: ONE\n",
      "  }\n",
      "}\n",
      ", '_keep_checkpoint_max': 5, '_keep_checkpoint_every_n_hours': 10000, '_log_step_count_steps': 100, '_train_distribute': None, '_device_fn': None, '_protocol': None, '_eval_distribute': None, '_experimental_distribute': None, '_service': None, '_cluster_spec': <tensorflow.python.training.server_lib.ClusterSpec object at 0x00000241A85EAE10>, '_task_type': 'worker', '_task_id': 0, '_global_id_in_cluster': 0, '_master': '', '_evaluation_master': '', '_is_chief': True, '_num_ps_replicas': 0, '_num_worker_replicas': 1}\n"
     ]
    }
   ],
   "source": [
    "model = tf.estimator.DNNRegressor(hidden_units=[9,9,9,9], feature_columns=feat_cols)"
   ]
  },
  {
   "cell_type": "code",
   "execution_count": null,
   "metadata": {},
   "outputs": [
    {
     "name": "stdout",
     "output_type": "stream",
     "text": [
      "INFO:tensorflow:Calling model_fn.\n",
      "INFO:tensorflow:Done calling model_fn.\n",
      "INFO:tensorflow:Create CheckpointSaverHook.\n",
      "INFO:tensorflow:Graph was finalized.\n",
      "INFO:tensorflow:Running local_init_op.\n",
      "INFO:tensorflow:Done running local_init_op.\n",
      "INFO:tensorflow:Saving checkpoints for 0 into C:\\Users\\DELL\\AppData\\Local\\Temp\\tmpid68a6x5\\model.ckpt.\n",
      "INFO:tensorflow:loss = 503976230000.0, step = 1\n",
      "INFO:tensorflow:global_step/sec: 249.977\n",
      "INFO:tensorflow:loss = 381223100000.0, step = 101 (0.405 sec)\n",
      "INFO:tensorflow:global_step/sec: 310.831\n",
      "INFO:tensorflow:loss = 152862060000.0, step = 201 (0.321 sec)\n",
      "INFO:tensorflow:global_step/sec: 318.255\n",
      "INFO:tensorflow:loss = 136628310000.0, step = 301 (0.320 sec)\n",
      "INFO:tensorflow:global_step/sec: 333.827\n",
      "INFO:tensorflow:loss = 85795180000.0, step = 401 (0.294 sec)\n",
      "INFO:tensorflow:global_step/sec: 322.733\n",
      "INFO:tensorflow:loss = 97981874000.0, step = 501 (0.305 sec)\n",
      "INFO:tensorflow:global_step/sec: 323.401\n",
      "INFO:tensorflow:loss = 107511190000.0, step = 601 (0.311 sec)\n",
      "INFO:tensorflow:global_step/sec: 343.061\n",
      "INFO:tensorflow:loss = 99968434000.0, step = 701 (0.296 sec)\n",
      "INFO:tensorflow:global_step/sec: 329.226\n",
      "INFO:tensorflow:loss = 155971440000.0, step = 801 (0.298 sec)\n",
      "INFO:tensorflow:global_step/sec: 342.613\n",
      "INFO:tensorflow:loss = 67848724000.0, step = 901 (0.296 sec)\n",
      "INFO:tensorflow:global_step/sec: 320.991\n",
      "INFO:tensorflow:loss = 56312234000.0, step = 1001 (0.309 sec)\n",
      "INFO:tensorflow:global_step/sec: 332.775\n",
      "INFO:tensorflow:loss = 51209945000.0, step = 1101 (0.303 sec)\n",
      "INFO:tensorflow:global_step/sec: 342.379\n",
      "INFO:tensorflow:loss = 67589620000.0, step = 1201 (0.297 sec)\n",
      "INFO:tensorflow:global_step/sec: 335.063\n",
      "INFO:tensorflow:loss = 59399670000.0, step = 1301 (0.296 sec)\n",
      "INFO:tensorflow:global_step/sec: 320.429\n",
      "INFO:tensorflow:loss = 59413060000.0, step = 1401 (0.315 sec)\n",
      "INFO:tensorflow:global_step/sec: 329.571\n",
      "INFO:tensorflow:loss = 135004275000.0, step = 1501 (0.301 sec)\n",
      "INFO:tensorflow:global_step/sec: 336.461\n",
      "INFO:tensorflow:loss = 89238180000.0, step = 1601 (0.295 sec)\n",
      "INFO:tensorflow:global_step/sec: 329.869\n",
      "INFO:tensorflow:loss = 94340825000.0, step = 1701 (0.304 sec)\n",
      "INFO:tensorflow:global_step/sec: 328.77\n",
      "INFO:tensorflow:loss = 101260860000.0, step = 1801 (0.308 sec)\n",
      "INFO:tensorflow:global_step/sec: 317.48\n",
      "INFO:tensorflow:loss = 208028840000.0, step = 1901 (0.312 sec)\n",
      "INFO:tensorflow:global_step/sec: 316.938\n",
      "INFO:tensorflow:loss = 95000930000.0, step = 2001 (0.315 sec)\n",
      "INFO:tensorflow:global_step/sec: 309.071\n",
      "INFO:tensorflow:loss = 78264960000.0, step = 2101 (0.323 sec)\n",
      "INFO:tensorflow:global_step/sec: 329.359\n",
      "INFO:tensorflow:loss = 94262900000.0, step = 2201 (0.302 sec)\n",
      "INFO:tensorflow:global_step/sec: 299.427\n",
      "INFO:tensorflow:loss = 140222500000.0, step = 2301 (0.333 sec)\n",
      "INFO:tensorflow:global_step/sec: 260.114\n",
      "INFO:tensorflow:loss = 60750860000.0, step = 2401 (0.389 sec)\n",
      "INFO:tensorflow:global_step/sec: 235.829\n",
      "INFO:tensorflow:loss = 90261045000.0, step = 2501 (0.427 sec)\n",
      "INFO:tensorflow:global_step/sec: 280.952\n",
      "INFO:tensorflow:loss = 36445120000.0, step = 2601 (0.358 sec)\n",
      "INFO:tensorflow:global_step/sec: 165.159\n",
      "INFO:tensorflow:loss = 245680600000.0, step = 2701 (0.606 sec)\n",
      "INFO:tensorflow:global_step/sec: 161.956\n",
      "INFO:tensorflow:loss = 138341740000.0, step = 2801 (0.621 sec)\n",
      "INFO:tensorflow:global_step/sec: 166.056\n",
      "INFO:tensorflow:loss = 46427333000.0, step = 2901 (0.603 sec)\n",
      "INFO:tensorflow:global_step/sec: 163.008\n",
      "INFO:tensorflow:loss = 43766340000.0, step = 3001 (0.611 sec)\n",
      "INFO:tensorflow:global_step/sec: 155.736\n",
      "INFO:tensorflow:loss = 66319794000.0, step = 3101 (0.639 sec)\n",
      "INFO:tensorflow:global_step/sec: 187.971\n",
      "INFO:tensorflow:loss = 101429880000.0, step = 3201 (0.525 sec)\n",
      "INFO:tensorflow:global_step/sec: 291.132\n",
      "INFO:tensorflow:loss = 96854260000.0, step = 3301 (0.350 sec)\n",
      "INFO:tensorflow:global_step/sec: 285.859\n",
      "INFO:tensorflow:loss = 73180530000.0, step = 3401 (0.350 sec)\n",
      "INFO:tensorflow:global_step/sec: 293.407\n",
      "INFO:tensorflow:loss = 27290948000.0, step = 3501 (0.336 sec)\n",
      "INFO:tensorflow:global_step/sec: 299.001\n",
      "INFO:tensorflow:loss = 43559764000.0, step = 3601 (0.334 sec)\n",
      "INFO:tensorflow:global_step/sec: 317.863\n",
      "INFO:tensorflow:loss = 150294250000.0, step = 3701 (0.317 sec)\n",
      "INFO:tensorflow:global_step/sec: 295.218\n",
      "INFO:tensorflow:loss = 112815840000.0, step = 3801 (0.333 sec)\n",
      "INFO:tensorflow:global_step/sec: 296.726\n",
      "INFO:tensorflow:loss = 65156727000.0, step = 3901 (0.338 sec)\n",
      "INFO:tensorflow:global_step/sec: 269.732\n",
      "INFO:tensorflow:loss = 102735700000.0, step = 4001 (0.373 sec)\n",
      "INFO:tensorflow:global_step/sec: 304.525\n",
      "INFO:tensorflow:loss = 51971772000.0, step = 4101 (0.334 sec)\n",
      "INFO:tensorflow:global_step/sec: 300.064\n",
      "INFO:tensorflow:loss = 62979000000.0, step = 4201 (0.335 sec)\n",
      "INFO:tensorflow:global_step/sec: 311.086\n",
      "INFO:tensorflow:loss = 93338180000.0, step = 4301 (0.322 sec)\n",
      "INFO:tensorflow:global_step/sec: 296.605\n",
      "INFO:tensorflow:loss = 66457846000.0, step = 4401 (0.341 sec)\n",
      "INFO:tensorflow:global_step/sec: 284.156\n",
      "INFO:tensorflow:loss = 73977460000.0, step = 4501 (0.341 sec)\n",
      "INFO:tensorflow:global_step/sec: 269.837\n",
      "INFO:tensorflow:loss = 73883075000.0, step = 4601 (0.366 sec)\n",
      "INFO:tensorflow:global_step/sec: 291.219\n",
      "INFO:tensorflow:loss = 192375670000.0, step = 4701 (0.349 sec)\n",
      "INFO:tensorflow:global_step/sec: 296.982\n",
      "INFO:tensorflow:loss = 71460090000.0, step = 4801 (0.331 sec)\n",
      "INFO:tensorflow:global_step/sec: 293.331\n",
      "INFO:tensorflow:loss = 49596375000.0, step = 4901 (0.354 sec)\n",
      "INFO:tensorflow:global_step/sec: 295.567\n",
      "INFO:tensorflow:loss = 118661480000.0, step = 5001 (0.328 sec)\n",
      "INFO:tensorflow:global_step/sec: 292.28\n",
      "INFO:tensorflow:loss = 67212116000.0, step = 5101 (0.340 sec)\n",
      "INFO:tensorflow:global_step/sec: 319.721\n",
      "INFO:tensorflow:loss = 27355933000.0, step = 5201 (0.326 sec)\n",
      "INFO:tensorflow:global_step/sec: 283.827\n",
      "INFO:tensorflow:loss = 130254135000.0, step = 5301 (0.343 sec)\n",
      "INFO:tensorflow:global_step/sec: 284.229\n",
      "INFO:tensorflow:loss = 52400808000.0, step = 5401 (0.351 sec)\n",
      "INFO:tensorflow:global_step/sec: 293.228\n",
      "INFO:tensorflow:loss = 106378150000.0, step = 5501 (0.341 sec)\n",
      "INFO:tensorflow:global_step/sec: 278.523\n",
      "INFO:tensorflow:loss = 84181130000.0, step = 5601 (0.359 sec)\n",
      "INFO:tensorflow:global_step/sec: 288.876\n",
      "INFO:tensorflow:loss = 47413910000.0, step = 5701 (0.349 sec)\n",
      "INFO:tensorflow:global_step/sec: 298.768\n",
      "INFO:tensorflow:loss = 28758012000.0, step = 5801 (0.335 sec)\n",
      "INFO:tensorflow:global_step/sec: 301.33\n",
      "INFO:tensorflow:loss = 119252845000.0, step = 5901 (0.335 sec)\n",
      "INFO:tensorflow:global_step/sec: 285.56\n",
      "INFO:tensorflow:loss = 75704470000.0, step = 6001 (0.351 sec)\n",
      "INFO:tensorflow:global_step/sec: 288.079\n",
      "INFO:tensorflow:loss = 108180360000.0, step = 6101 (0.340 sec)\n",
      "INFO:tensorflow:global_step/sec: 291.319\n",
      "INFO:tensorflow:loss = 27094800000.0, step = 6201 (0.349 sec)\n",
      "INFO:tensorflow:global_step/sec: 312.46\n",
      "INFO:tensorflow:loss = 79968610000.0, step = 6301 (0.320 sec)\n",
      "INFO:tensorflow:global_step/sec: 291.89\n",
      "INFO:tensorflow:loss = 75676130000.0, step = 6401 (0.343 sec)\n",
      "INFO:tensorflow:global_step/sec: 311.93\n",
      "INFO:tensorflow:loss = 134925206000.0, step = 6501 (0.324 sec)\n",
      "INFO:tensorflow:global_step/sec: 295.338\n",
      "INFO:tensorflow:loss = 134041444000.0, step = 6601 (0.336 sec)\n",
      "INFO:tensorflow:global_step/sec: 307.664\n",
      "INFO:tensorflow:loss = 79152170000.0, step = 6701 (0.320 sec)\n",
      "INFO:tensorflow:global_step/sec: 288.647\n",
      "INFO:tensorflow:loss = 116052200000.0, step = 6801 (0.350 sec)\n",
      "INFO:tensorflow:global_step/sec: 285.003\n",
      "INFO:tensorflow:loss = 79787660000.0, step = 6901 (0.348 sec)\n",
      "INFO:tensorflow:global_step/sec: 293.002\n",
      "INFO:tensorflow:loss = 26763377000.0, step = 7001 (0.340 sec)\n",
      "INFO:tensorflow:global_step/sec: 311.351\n",
      "INFO:tensorflow:loss = 83085795000.0, step = 7101 (0.322 sec)\n",
      "INFO:tensorflow:global_step/sec: 304.11\n",
      "INFO:tensorflow:loss = 146782060000.0, step = 7201 (0.332 sec)\n",
      "INFO:tensorflow:global_step/sec: 316.104\n",
      "INFO:tensorflow:loss = 71056770000.0, step = 7301 (0.317 sec)\n",
      "INFO:tensorflow:global_step/sec: 317.375\n",
      "INFO:tensorflow:loss = 41680933000.0, step = 7401 (0.316 sec)\n",
      "INFO:tensorflow:global_step/sec: 311.581\n",
      "INFO:tensorflow:loss = 127729934000.0, step = 7501 (0.321 sec)\n",
      "INFO:tensorflow:global_step/sec: 295.992\n",
      "INFO:tensorflow:loss = 76277430000.0, step = 7601 (0.339 sec)\n"
     ]
    },
    {
     "name": "stdout",
     "output_type": "stream",
     "text": [
      "INFO:tensorflow:global_step/sec: 308.239\n",
      "INFO:tensorflow:loss = 40880400000.0, step = 7701 (0.324 sec)\n",
      "INFO:tensorflow:global_step/sec: 298.344\n",
      "INFO:tensorflow:loss = 82501760000.0, step = 7801 (0.330 sec)\n",
      "INFO:tensorflow:global_step/sec: 304.187\n",
      "INFO:tensorflow:loss = 175362900000.0, step = 7901 (0.335 sec)\n",
      "INFO:tensorflow:global_step/sec: 280.425\n",
      "INFO:tensorflow:loss = 43005334000.0, step = 8001 (0.350 sec)\n",
      "INFO:tensorflow:global_step/sec: 308.045\n",
      "INFO:tensorflow:loss = 130039690000.0, step = 8101 (0.324 sec)\n",
      "INFO:tensorflow:global_step/sec: 292.706\n",
      "INFO:tensorflow:loss = 188945600000.0, step = 8201 (0.342 sec)\n",
      "INFO:tensorflow:global_step/sec: 316.026\n",
      "INFO:tensorflow:loss = 171380060000.0, step = 8301 (0.321 sec)\n",
      "INFO:tensorflow:global_step/sec: 313.159\n",
      "INFO:tensorflow:loss = 137730280000.0, step = 8401 (0.325 sec)\n",
      "INFO:tensorflow:global_step/sec: 307.427\n",
      "INFO:tensorflow:loss = 28991128000.0, step = 8501 (0.323 sec)\n",
      "INFO:tensorflow:global_step/sec: 302.008\n",
      "INFO:tensorflow:loss = 120475270000.0, step = 8601 (0.330 sec)\n",
      "INFO:tensorflow:global_step/sec: 271.022\n",
      "INFO:tensorflow:loss = 48407888000.0, step = 8701 (0.371 sec)\n",
      "INFO:tensorflow:global_step/sec: 304.508\n",
      "INFO:tensorflow:loss = 82980410000.0, step = 8801 (0.321 sec)\n",
      "INFO:tensorflow:global_step/sec: 287.329\n",
      "INFO:tensorflow:loss = 34060870000.0, step = 8901 (0.348 sec)\n",
      "INFO:tensorflow:global_step/sec: 319.176\n",
      "INFO:tensorflow:loss = 50497370000.0, step = 9001 (0.314 sec)\n",
      "INFO:tensorflow:global_step/sec: 291.267\n",
      "INFO:tensorflow:loss = 81928670000.0, step = 9101 (0.348 sec)\n",
      "INFO:tensorflow:global_step/sec: 301.357\n",
      "INFO:tensorflow:loss = 78299600000.0, step = 9201 (0.331 sec)\n",
      "INFO:tensorflow:global_step/sec: 279.887\n",
      "INFO:tensorflow:loss = 74986700000.0, step = 9301 (0.353 sec)\n",
      "INFO:tensorflow:global_step/sec: 280.619\n",
      "INFO:tensorflow:loss = 76938160000.0, step = 9401 (0.356 sec)\n",
      "INFO:tensorflow:global_step/sec: 291.537\n",
      "INFO:tensorflow:loss = 78449980000.0, step = 9501 (0.348 sec)\n",
      "INFO:tensorflow:global_step/sec: 298.45\n",
      "INFO:tensorflow:loss = 160289520000.0, step = 9601 (0.337 sec)\n",
      "INFO:tensorflow:global_step/sec: 300.271\n",
      "INFO:tensorflow:loss = 112781435000.0, step = 9701 (0.323 sec)\n",
      "INFO:tensorflow:global_step/sec: 308.343\n",
      "INFO:tensorflow:loss = 61362266000.0, step = 9801 (0.335 sec)\n",
      "INFO:tensorflow:global_step/sec: 288.943\n",
      "INFO:tensorflow:loss = 48598802000.0, step = 9901 (0.336 sec)\n",
      "INFO:tensorflow:global_step/sec: 300.599\n",
      "INFO:tensorflow:loss = 101391930000.0, step = 10001 (0.333 sec)\n",
      "INFO:tensorflow:global_step/sec: 305.782\n",
      "INFO:tensorflow:loss = 118704290000.0, step = 10101 (0.329 sec)\n",
      "INFO:tensorflow:global_step/sec: 313.524\n",
      "INFO:tensorflow:loss = 55627317000.0, step = 10201 (0.320 sec)\n",
      "INFO:tensorflow:global_step/sec: 299.126\n",
      "INFO:tensorflow:loss = 88720750000.0, step = 10301 (0.337 sec)\n",
      "INFO:tensorflow:global_step/sec: 238.026\n",
      "INFO:tensorflow:loss = 142299090000.0, step = 10401 (0.428 sec)\n",
      "INFO:tensorflow:global_step/sec: 188.262\n",
      "INFO:tensorflow:loss = 38254350000.0, step = 10501 (0.529 sec)\n"
     ]
    }
   ],
   "source": [
    "model.train(input_fn = input_func, steps=25000)"
   ]
  },
  {
   "cell_type": "code",
   "execution_count": null,
   "metadata": {},
   "outputs": [],
   "source": [
    "predict_input_func= tf.estimator.inputs.pandas_input_fn(x=X_test, batch_size=10, num_epochs=1, shuffle=False)"
   ]
  },
  {
   "cell_type": "code",
   "execution_count": null,
   "metadata": {},
   "outputs": [],
   "source": [
    "pred_gen = model.predict(predict_input_func)"
   ]
  },
  {
   "cell_type": "code",
   "execution_count": null,
   "metadata": {},
   "outputs": [],
   "source": [
    "predictions = list(pred_gen)"
   ]
  },
  {
   "cell_type": "code",
   "execution_count": null,
   "metadata": {},
   "outputs": [],
   "source": [
    "predictions"
   ]
  },
  {
   "cell_type": "code",
   "execution_count": null,
   "metadata": {},
   "outputs": [],
   "source": [
    "final_pred = []\n",
    "for pred in predictions:\n",
    "    final_pred.append(pred['predictions'])"
   ]
  },
  {
   "cell_type": "code",
   "execution_count": null,
   "metadata": {},
   "outputs": [],
   "source": [
    "from sklearn.metrics import mean_squared_error\n",
    "\n",
    "mean_squared_error(y_test, final_pred)**0.5"
   ]
  },
  {
   "cell_type": "code",
   "execution_count": null,
   "metadata": {},
   "outputs": [],
   "source": []
  }
 ],
 "metadata": {
  "kernelspec": {
   "display_name": "Python 3",
   "language": "python",
   "name": "python3"
  },
  "language_info": {
   "codemirror_mode": {
    "name": "ipython",
    "version": 3
   },
   "file_extension": ".py",
   "mimetype": "text/x-python",
   "name": "python",
   "nbconvert_exporter": "python",
   "pygments_lexer": "ipython3",
   "version": "3.7.2"
  }
 },
 "nbformat": 4,
 "nbformat_minor": 2
}
