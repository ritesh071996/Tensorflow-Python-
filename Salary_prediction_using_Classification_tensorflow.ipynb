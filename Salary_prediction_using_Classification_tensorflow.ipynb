{
 "cells": [
  {
   "cell_type": "code",
   "execution_count": 2,
   "metadata": {},
   "outputs": [],
   "source": [
    "import pandas as pd"
   ]
  },
  {
   "cell_type": "code",
   "execution_count": 3,
   "metadata": {},
   "outputs": [],
   "source": [
    "census = pd.read_csv('Salary_data.csv')"
   ]
  },
  {
   "cell_type": "code",
   "execution_count": 4,
   "metadata": {},
   "outputs": [
    {
     "data": {
      "text/html": [
       "<div>\n",
       "<style scoped>\n",
       "    .dataframe tbody tr th:only-of-type {\n",
       "        vertical-align: middle;\n",
       "    }\n",
       "\n",
       "    .dataframe tbody tr th {\n",
       "        vertical-align: top;\n",
       "    }\n",
       "\n",
       "    .dataframe thead th {\n",
       "        text-align: right;\n",
       "    }\n",
       "</style>\n",
       "<table border=\"1\" class=\"dataframe\">\n",
       "  <thead>\n",
       "    <tr style=\"text-align: right;\">\n",
       "      <th></th>\n",
       "      <th>age</th>\n",
       "      <th>workclass</th>\n",
       "      <th>education</th>\n",
       "      <th>education_num</th>\n",
       "      <th>marital_status</th>\n",
       "      <th>occupation</th>\n",
       "      <th>relationship</th>\n",
       "      <th>race</th>\n",
       "      <th>gender</th>\n",
       "      <th>capital_gain</th>\n",
       "      <th>capital_loss</th>\n",
       "      <th>hours_per_week</th>\n",
       "      <th>native_country</th>\n",
       "      <th>income_bracket</th>\n",
       "    </tr>\n",
       "  </thead>\n",
       "  <tbody>\n",
       "    <tr>\n",
       "      <th>0</th>\n",
       "      <td>39</td>\n",
       "      <td>State-gov</td>\n",
       "      <td>Bachelors</td>\n",
       "      <td>13</td>\n",
       "      <td>Never-married</td>\n",
       "      <td>Adm-clerical</td>\n",
       "      <td>Not-in-family</td>\n",
       "      <td>White</td>\n",
       "      <td>Male</td>\n",
       "      <td>2174</td>\n",
       "      <td>0</td>\n",
       "      <td>40</td>\n",
       "      <td>United-States</td>\n",
       "      <td>&lt;=50K</td>\n",
       "    </tr>\n",
       "    <tr>\n",
       "      <th>1</th>\n",
       "      <td>50</td>\n",
       "      <td>Self-emp-not-inc</td>\n",
       "      <td>Bachelors</td>\n",
       "      <td>13</td>\n",
       "      <td>Married-civ-spouse</td>\n",
       "      <td>Exec-managerial</td>\n",
       "      <td>Husband</td>\n",
       "      <td>White</td>\n",
       "      <td>Male</td>\n",
       "      <td>0</td>\n",
       "      <td>0</td>\n",
       "      <td>13</td>\n",
       "      <td>United-States</td>\n",
       "      <td>&lt;=50K</td>\n",
       "    </tr>\n",
       "    <tr>\n",
       "      <th>2</th>\n",
       "      <td>38</td>\n",
       "      <td>Private</td>\n",
       "      <td>HS-grad</td>\n",
       "      <td>9</td>\n",
       "      <td>Divorced</td>\n",
       "      <td>Handlers-cleaners</td>\n",
       "      <td>Not-in-family</td>\n",
       "      <td>White</td>\n",
       "      <td>Male</td>\n",
       "      <td>0</td>\n",
       "      <td>0</td>\n",
       "      <td>40</td>\n",
       "      <td>United-States</td>\n",
       "      <td>&lt;=50K</td>\n",
       "    </tr>\n",
       "    <tr>\n",
       "      <th>3</th>\n",
       "      <td>53</td>\n",
       "      <td>Private</td>\n",
       "      <td>11th</td>\n",
       "      <td>7</td>\n",
       "      <td>Married-civ-spouse</td>\n",
       "      <td>Handlers-cleaners</td>\n",
       "      <td>Husband</td>\n",
       "      <td>Black</td>\n",
       "      <td>Male</td>\n",
       "      <td>0</td>\n",
       "      <td>0</td>\n",
       "      <td>40</td>\n",
       "      <td>United-States</td>\n",
       "      <td>&lt;=50K</td>\n",
       "    </tr>\n",
       "    <tr>\n",
       "      <th>4</th>\n",
       "      <td>28</td>\n",
       "      <td>Private</td>\n",
       "      <td>Bachelors</td>\n",
       "      <td>13</td>\n",
       "      <td>Married-civ-spouse</td>\n",
       "      <td>Prof-specialty</td>\n",
       "      <td>Wife</td>\n",
       "      <td>Black</td>\n",
       "      <td>Female</td>\n",
       "      <td>0</td>\n",
       "      <td>0</td>\n",
       "      <td>40</td>\n",
       "      <td>Cuba</td>\n",
       "      <td>&lt;=50K</td>\n",
       "    </tr>\n",
       "  </tbody>\n",
       "</table>\n",
       "</div>"
      ],
      "text/plain": [
       "   age          workclass   education  education_num       marital_status  \\\n",
       "0   39          State-gov   Bachelors             13        Never-married   \n",
       "1   50   Self-emp-not-inc   Bachelors             13   Married-civ-spouse   \n",
       "2   38            Private     HS-grad              9             Divorced   \n",
       "3   53            Private        11th              7   Married-civ-spouse   \n",
       "4   28            Private   Bachelors             13   Married-civ-spouse   \n",
       "\n",
       "           occupation    relationship    race   gender  capital_gain  \\\n",
       "0        Adm-clerical   Not-in-family   White     Male          2174   \n",
       "1     Exec-managerial         Husband   White     Male             0   \n",
       "2   Handlers-cleaners   Not-in-family   White     Male             0   \n",
       "3   Handlers-cleaners         Husband   Black     Male             0   \n",
       "4      Prof-specialty            Wife   Black   Female             0   \n",
       "\n",
       "   capital_loss  hours_per_week  native_country income_bracket  \n",
       "0             0              40   United-States          <=50K  \n",
       "1             0              13   United-States          <=50K  \n",
       "2             0              40   United-States          <=50K  \n",
       "3             0              40   United-States          <=50K  \n",
       "4             0              40            Cuba          <=50K  "
      ]
     },
     "execution_count": 4,
     "metadata": {},
     "output_type": "execute_result"
    }
   ],
   "source": [
    "census.head()"
   ]
  },
  {
   "cell_type": "code",
   "execution_count": 6,
   "metadata": {},
   "outputs": [
    {
     "data": {
      "text/plain": [
       "array([' <=50K', ' >50K'], dtype=object)"
      ]
     },
     "execution_count": 6,
     "metadata": {},
     "output_type": "execute_result"
    }
   ],
   "source": [
    "census['income_bracket'].unique()"
   ]
  },
  {
   "cell_type": "code",
   "execution_count": 7,
   "metadata": {},
   "outputs": [],
   "source": [
    "def label_fix(label):\n",
    "    if label == ' <=50K':\n",
    "        return 0\n",
    "    else: \n",
    "        return 1"
   ]
  },
  {
   "cell_type": "code",
   "execution_count": 8,
   "metadata": {},
   "outputs": [],
   "source": [
    "census['income_bracket'] = census['income_bracket'].apply(label_fix)"
   ]
  },
  {
   "cell_type": "code",
   "execution_count": 10,
   "metadata": {},
   "outputs": [
    {
     "data": {
      "text/html": [
       "<div>\n",
       "<style scoped>\n",
       "    .dataframe tbody tr th:only-of-type {\n",
       "        vertical-align: middle;\n",
       "    }\n",
       "\n",
       "    .dataframe tbody tr th {\n",
       "        vertical-align: top;\n",
       "    }\n",
       "\n",
       "    .dataframe thead th {\n",
       "        text-align: right;\n",
       "    }\n",
       "</style>\n",
       "<table border=\"1\" class=\"dataframe\">\n",
       "  <thead>\n",
       "    <tr style=\"text-align: right;\">\n",
       "      <th></th>\n",
       "      <th>age</th>\n",
       "      <th>workclass</th>\n",
       "      <th>education</th>\n",
       "      <th>education_num</th>\n",
       "      <th>marital_status</th>\n",
       "      <th>occupation</th>\n",
       "      <th>relationship</th>\n",
       "      <th>race</th>\n",
       "      <th>gender</th>\n",
       "      <th>capital_gain</th>\n",
       "      <th>capital_loss</th>\n",
       "      <th>hours_per_week</th>\n",
       "      <th>native_country</th>\n",
       "      <th>income_bracket</th>\n",
       "    </tr>\n",
       "  </thead>\n",
       "  <tbody>\n",
       "    <tr>\n",
       "      <th>0</th>\n",
       "      <td>39</td>\n",
       "      <td>State-gov</td>\n",
       "      <td>Bachelors</td>\n",
       "      <td>13</td>\n",
       "      <td>Never-married</td>\n",
       "      <td>Adm-clerical</td>\n",
       "      <td>Not-in-family</td>\n",
       "      <td>White</td>\n",
       "      <td>Male</td>\n",
       "      <td>2174</td>\n",
       "      <td>0</td>\n",
       "      <td>40</td>\n",
       "      <td>United-States</td>\n",
       "      <td>0</td>\n",
       "    </tr>\n",
       "    <tr>\n",
       "      <th>1</th>\n",
       "      <td>50</td>\n",
       "      <td>Self-emp-not-inc</td>\n",
       "      <td>Bachelors</td>\n",
       "      <td>13</td>\n",
       "      <td>Married-civ-spouse</td>\n",
       "      <td>Exec-managerial</td>\n",
       "      <td>Husband</td>\n",
       "      <td>White</td>\n",
       "      <td>Male</td>\n",
       "      <td>0</td>\n",
       "      <td>0</td>\n",
       "      <td>13</td>\n",
       "      <td>United-States</td>\n",
       "      <td>0</td>\n",
       "    </tr>\n",
       "    <tr>\n",
       "      <th>2</th>\n",
       "      <td>38</td>\n",
       "      <td>Private</td>\n",
       "      <td>HS-grad</td>\n",
       "      <td>9</td>\n",
       "      <td>Divorced</td>\n",
       "      <td>Handlers-cleaners</td>\n",
       "      <td>Not-in-family</td>\n",
       "      <td>White</td>\n",
       "      <td>Male</td>\n",
       "      <td>0</td>\n",
       "      <td>0</td>\n",
       "      <td>40</td>\n",
       "      <td>United-States</td>\n",
       "      <td>0</td>\n",
       "    </tr>\n",
       "    <tr>\n",
       "      <th>3</th>\n",
       "      <td>53</td>\n",
       "      <td>Private</td>\n",
       "      <td>11th</td>\n",
       "      <td>7</td>\n",
       "      <td>Married-civ-spouse</td>\n",
       "      <td>Handlers-cleaners</td>\n",
       "      <td>Husband</td>\n",
       "      <td>Black</td>\n",
       "      <td>Male</td>\n",
       "      <td>0</td>\n",
       "      <td>0</td>\n",
       "      <td>40</td>\n",
       "      <td>United-States</td>\n",
       "      <td>0</td>\n",
       "    </tr>\n",
       "    <tr>\n",
       "      <th>4</th>\n",
       "      <td>28</td>\n",
       "      <td>Private</td>\n",
       "      <td>Bachelors</td>\n",
       "      <td>13</td>\n",
       "      <td>Married-civ-spouse</td>\n",
       "      <td>Prof-specialty</td>\n",
       "      <td>Wife</td>\n",
       "      <td>Black</td>\n",
       "      <td>Female</td>\n",
       "      <td>0</td>\n",
       "      <td>0</td>\n",
       "      <td>40</td>\n",
       "      <td>Cuba</td>\n",
       "      <td>0</td>\n",
       "    </tr>\n",
       "  </tbody>\n",
       "</table>\n",
       "</div>"
      ],
      "text/plain": [
       "   age          workclass   education  education_num       marital_status  \\\n",
       "0   39          State-gov   Bachelors             13        Never-married   \n",
       "1   50   Self-emp-not-inc   Bachelors             13   Married-civ-spouse   \n",
       "2   38            Private     HS-grad              9             Divorced   \n",
       "3   53            Private        11th              7   Married-civ-spouse   \n",
       "4   28            Private   Bachelors             13   Married-civ-spouse   \n",
       "\n",
       "           occupation    relationship    race   gender  capital_gain  \\\n",
       "0        Adm-clerical   Not-in-family   White     Male          2174   \n",
       "1     Exec-managerial         Husband   White     Male             0   \n",
       "2   Handlers-cleaners   Not-in-family   White     Male             0   \n",
       "3   Handlers-cleaners         Husband   Black     Male             0   \n",
       "4      Prof-specialty            Wife   Black   Female             0   \n",
       "\n",
       "   capital_loss  hours_per_week  native_country  income_bracket  \n",
       "0             0              40   United-States               0  \n",
       "1             0              13   United-States               0  \n",
       "2             0              40   United-States               0  \n",
       "3             0              40   United-States               0  \n",
       "4             0              40            Cuba               0  "
      ]
     },
     "execution_count": 10,
     "metadata": {},
     "output_type": "execute_result"
    }
   ],
   "source": [
    "census.head()"
   ]
  },
  {
   "cell_type": "code",
   "execution_count": 11,
   "metadata": {},
   "outputs": [],
   "source": [
    "from sklearn.model_selection import train_test_split"
   ]
  },
  {
   "cell_type": "code",
   "execution_count": 13,
   "metadata": {},
   "outputs": [],
   "source": [
    "x_data = census.drop(\"income_bracket\",axis=1)"
   ]
  },
  {
   "cell_type": "code",
   "execution_count": 14,
   "metadata": {},
   "outputs": [],
   "source": [
    "y_labels = census[\"income_bracket\"]"
   ]
  },
  {
   "cell_type": "code",
   "execution_count": 15,
   "metadata": {},
   "outputs": [],
   "source": [
    "X_train, X_test, y_train, y_test = train_test_split(x_data, y_labels, test_size=0.33, random_state=42)"
   ]
  },
  {
   "cell_type": "code",
   "execution_count": 17,
   "metadata": {},
   "outputs": [
    {
     "data": {
      "text/html": [
       "<div>\n",
       "<style scoped>\n",
       "    .dataframe tbody tr th:only-of-type {\n",
       "        vertical-align: middle;\n",
       "    }\n",
       "\n",
       "    .dataframe tbody tr th {\n",
       "        vertical-align: top;\n",
       "    }\n",
       "\n",
       "    .dataframe thead th {\n",
       "        text-align: right;\n",
       "    }\n",
       "</style>\n",
       "<table border=\"1\" class=\"dataframe\">\n",
       "  <thead>\n",
       "    <tr style=\"text-align: right;\">\n",
       "      <th></th>\n",
       "      <th>age</th>\n",
       "      <th>workclass</th>\n",
       "      <th>education</th>\n",
       "      <th>education_num</th>\n",
       "      <th>marital_status</th>\n",
       "      <th>occupation</th>\n",
       "      <th>relationship</th>\n",
       "      <th>race</th>\n",
       "      <th>gender</th>\n",
       "      <th>capital_gain</th>\n",
       "      <th>capital_loss</th>\n",
       "      <th>hours_per_week</th>\n",
       "      <th>native_country</th>\n",
       "    </tr>\n",
       "  </thead>\n",
       "  <tbody>\n",
       "    <tr>\n",
       "      <th>27585</th>\n",
       "      <td>51</td>\n",
       "      <td>Private</td>\n",
       "      <td>Masters</td>\n",
       "      <td>14</td>\n",
       "      <td>Married-civ-spouse</td>\n",
       "      <td>Exec-managerial</td>\n",
       "      <td>Husband</td>\n",
       "      <td>White</td>\n",
       "      <td>Male</td>\n",
       "      <td>0</td>\n",
       "      <td>0</td>\n",
       "      <td>50</td>\n",
       "      <td>United-States</td>\n",
       "    </tr>\n",
       "    <tr>\n",
       "      <th>18010</th>\n",
       "      <td>46</td>\n",
       "      <td>?</td>\n",
       "      <td>HS-grad</td>\n",
       "      <td>9</td>\n",
       "      <td>Married-spouse-absent</td>\n",
       "      <td>?</td>\n",
       "      <td>Not-in-family</td>\n",
       "      <td>Asian-Pac-Islander</td>\n",
       "      <td>Male</td>\n",
       "      <td>0</td>\n",
       "      <td>0</td>\n",
       "      <td>40</td>\n",
       "      <td>Philippines</td>\n",
       "    </tr>\n",
       "    <tr>\n",
       "      <th>22472</th>\n",
       "      <td>25</td>\n",
       "      <td>Private</td>\n",
       "      <td>Bachelors</td>\n",
       "      <td>13</td>\n",
       "      <td>Never-married</td>\n",
       "      <td>Prof-specialty</td>\n",
       "      <td>Own-child</td>\n",
       "      <td>Black</td>\n",
       "      <td>Female</td>\n",
       "      <td>0</td>\n",
       "      <td>0</td>\n",
       "      <td>55</td>\n",
       "      <td>United-States</td>\n",
       "    </tr>\n",
       "    <tr>\n",
       "      <th>4585</th>\n",
       "      <td>27</td>\n",
       "      <td>Private</td>\n",
       "      <td>Assoc-acdm</td>\n",
       "      <td>12</td>\n",
       "      <td>Never-married</td>\n",
       "      <td>Other-service</td>\n",
       "      <td>Not-in-family</td>\n",
       "      <td>White</td>\n",
       "      <td>Male</td>\n",
       "      <td>0</td>\n",
       "      <td>0</td>\n",
       "      <td>40</td>\n",
       "      <td>United-States</td>\n",
       "    </tr>\n",
       "    <tr>\n",
       "      <th>11191</th>\n",
       "      <td>47</td>\n",
       "      <td>Local-gov</td>\n",
       "      <td>Masters</td>\n",
       "      <td>14</td>\n",
       "      <td>Married-civ-spouse</td>\n",
       "      <td>Prof-specialty</td>\n",
       "      <td>Husband</td>\n",
       "      <td>White</td>\n",
       "      <td>Male</td>\n",
       "      <td>7688</td>\n",
       "      <td>0</td>\n",
       "      <td>45</td>\n",
       "      <td>United-States</td>\n",
       "    </tr>\n",
       "  </tbody>\n",
       "</table>\n",
       "</div>"
      ],
      "text/plain": [
       "       age   workclass    education  education_num          marital_status  \\\n",
       "27585   51     Private      Masters             14      Married-civ-spouse   \n",
       "18010   46           ?      HS-grad              9   Married-spouse-absent   \n",
       "22472   25     Private    Bachelors             13           Never-married   \n",
       "4585    27     Private   Assoc-acdm             12           Never-married   \n",
       "11191   47   Local-gov      Masters             14      Married-civ-spouse   \n",
       "\n",
       "             occupation    relationship                 race   gender  \\\n",
       "27585   Exec-managerial         Husband                White     Male   \n",
       "18010                 ?   Not-in-family   Asian-Pac-Islander     Male   \n",
       "22472    Prof-specialty       Own-child                Black   Female   \n",
       "4585      Other-service   Not-in-family                White     Male   \n",
       "11191    Prof-specialty         Husband                White     Male   \n",
       "\n",
       "       capital_gain  capital_loss  hours_per_week  native_country  \n",
       "27585             0             0              50   United-States  \n",
       "18010             0             0              40     Philippines  \n",
       "22472             0             0              55   United-States  \n",
       "4585              0             0              40   United-States  \n",
       "11191          7688             0              45   United-States  "
      ]
     },
     "execution_count": 17,
     "metadata": {},
     "output_type": "execute_result"
    }
   ],
   "source": [
    "X_train.head()"
   ]
  },
  {
   "cell_type": "code",
   "execution_count": 18,
   "metadata": {},
   "outputs": [
    {
     "data": {
      "text/plain": [
       "27585    1\n",
       "18010    0\n",
       "22472    0\n",
       "4585     0\n",
       "11191    1\n",
       "Name: income_bracket, dtype: int64"
      ]
     },
     "execution_count": 18,
     "metadata": {},
     "output_type": "execute_result"
    }
   ],
   "source": [
    "y_train.head()"
   ]
  },
  {
   "cell_type": "code",
   "execution_count": 19,
   "metadata": {},
   "outputs": [
    {
     "data": {
      "text/plain": [
       "Index(['age', 'workclass', 'education', 'education_num', 'marital_status',\n",
       "       'occupation', 'relationship', 'race', 'gender', 'capital_gain',\n",
       "       'capital_loss', 'hours_per_week', 'native_country', 'income_bracket'],\n",
       "      dtype='object')"
      ]
     },
     "execution_count": 19,
     "metadata": {},
     "output_type": "execute_result"
    }
   ],
   "source": [
    "census.columns"
   ]
  },
  {
   "cell_type": "code",
   "execution_count": 20,
   "metadata": {},
   "outputs": [],
   "source": [
    "import tensorflow as tf"
   ]
  },
  {
   "cell_type": "code",
   "execution_count": 21,
   "metadata": {},
   "outputs": [],
   "source": [
    "gender = tf.feature_column.categorical_column_with_vocabulary_list(\"gender\",[\"Female\",\"Male\"])"
   ]
  },
  {
   "cell_type": "code",
   "execution_count": 22,
   "metadata": {},
   "outputs": [],
   "source": [
    "occupation = tf.feature_column.categorical_column_with_hash_bucket(\"occupation\", hash_bucket_size=1000)\n",
    "marital_status = tf.feature_column.categorical_column_with_hash_bucket(\"marital_status\", hash_bucket_size=1000)\n",
    "relationship = tf.feature_column.categorical_column_with_hash_bucket(\"relationship\", hash_bucket_size=1000)\n",
    "education = tf.feature_column.categorical_column_with_hash_bucket(\"education\", hash_bucket_size=1000)\n",
    "workclass = tf.feature_column.categorical_column_with_hash_bucket(\"workclass\", hash_bucket_size=1000)\n",
    "native_country = tf.feature_column.categorical_column_with_hash_bucket(\"native_country\", hash_bucket_size=1000)"
   ]
  },
  {
   "cell_type": "code",
   "execution_count": 23,
   "metadata": {},
   "outputs": [],
   "source": [
    "age = tf.feature_column.numeric_column(\"age\")\n",
    "education_num = tf.feature_column.numeric_column(\"education_num\")\n",
    "capital_gain = tf.feature_column.numeric_column(\"capital_gain\")\n",
    "capital_loss = tf.feature_column.numeric_column(\"capital_loss\")\n",
    "hours_per_week = tf.feature_column.numeric_column(\"hours_per_week\")"
   ]
  },
  {
   "cell_type": "code",
   "execution_count": 25,
   "metadata": {},
   "outputs": [],
   "source": [
    "feat_cols = [gender, occupation, marital_status,relationship,education,workclass,native_country,age,education_num,capital_gain,\n",
    "            capital_loss,hours_per_week]"
   ]
  },
  {
   "cell_type": "code",
   "execution_count": 27,
   "metadata": {},
   "outputs": [],
   "source": [
    "input_func = tf.estimator.inputs.pandas_input_fn(x=X_train, y=y_train,batch_size=100, num_epochs=None, shuffle=True)"
   ]
  },
  {
   "cell_type": "code",
   "execution_count": 29,
   "metadata": {},
   "outputs": [
    {
     "name": "stdout",
     "output_type": "stream",
     "text": [
      "INFO:tensorflow:Using default config.\n",
      "WARNING:tensorflow:Using temporary folder as model directory: C:\\Users\\DELL\\AppData\\Local\\Temp\\tmp95kmxe4u\n",
      "INFO:tensorflow:Using config: {'_model_dir': 'C:\\\\Users\\\\DELL\\\\AppData\\\\Local\\\\Temp\\\\tmp95kmxe4u', '_tf_random_seed': None, '_save_summary_steps': 100, '_save_checkpoints_steps': None, '_save_checkpoints_secs': 600, '_session_config': allow_soft_placement: true\n",
      "graph_options {\n",
      "  rewrite_options {\n",
      "    meta_optimizer_iterations: ONE\n",
      "  }\n",
      "}\n",
      ", '_keep_checkpoint_max': 5, '_keep_checkpoint_every_n_hours': 10000, '_log_step_count_steps': 100, '_train_distribute': None, '_device_fn': None, '_protocol': None, '_eval_distribute': None, '_experimental_distribute': None, '_service': None, '_cluster_spec': <tensorflow.python.training.server_lib.ClusterSpec object at 0x0000025818B50550>, '_task_type': 'worker', '_task_id': 0, '_global_id_in_cluster': 0, '_master': '', '_evaluation_master': '', '_is_chief': True, '_num_ps_replicas': 0, '_num_worker_replicas': 1}\n"
     ]
    }
   ],
   "source": [
    "model = tf.estimator.LinearClassifier(feature_columns=feat_cols)"
   ]
  },
  {
   "cell_type": "code",
   "execution_count": 30,
   "metadata": {
    "scrolled": true
   },
   "outputs": [
    {
     "name": "stdout",
     "output_type": "stream",
     "text": [
      "WARNING:tensorflow:From C:\\Users\\DELL\\Miniconda3\\envs\\tensorflow\\lib\\site-packages\\tensorflow\\python\\framework\\op_def_library.py:263: colocate_with (from tensorflow.python.framework.ops) is deprecated and will be removed in a future version.\n",
      "Instructions for updating:\n",
      "Colocations handled automatically by placer.\n",
      "WARNING:tensorflow:From C:\\Users\\DELL\\Miniconda3\\envs\\tensorflow\\lib\\site-packages\\tensorflow_estimator\\python\\estimator\\inputs\\queues\\feeding_queue_runner.py:62: QueueRunner.__init__ (from tensorflow.python.training.queue_runner_impl) is deprecated and will be removed in a future version.\n",
      "Instructions for updating:\n",
      "To construct input pipelines, use the `tf.data` module.\n",
      "WARNING:tensorflow:From C:\\Users\\DELL\\Miniconda3\\envs\\tensorflow\\lib\\site-packages\\tensorflow_estimator\\python\\estimator\\inputs\\queues\\feeding_functions.py:500: add_queue_runner (from tensorflow.python.training.queue_runner_impl) is deprecated and will be removed in a future version.\n",
      "Instructions for updating:\n",
      "To construct input pipelines, use the `tf.data` module.\n",
      "INFO:tensorflow:Calling model_fn.\n",
      "WARNING:tensorflow:From C:\\Users\\DELL\\Miniconda3\\envs\\tensorflow\\lib\\site-packages\\tensorflow\\python\\feature_column\\feature_column_v2.py:2703: to_float (from tensorflow.python.ops.math_ops) is deprecated and will be removed in a future version.\n",
      "Instructions for updating:\n",
      "Use tf.cast instead.\n",
      "WARNING:tensorflow:From C:\\Users\\DELL\\Miniconda3\\envs\\tensorflow\\lib\\site-packages\\tensorflow\\python\\ops\\lookup_ops.py:1137: to_int64 (from tensorflow.python.ops.math_ops) is deprecated and will be removed in a future version.\n",
      "Instructions for updating:\n",
      "Use tf.cast instead.\n",
      "INFO:tensorflow:Done calling model_fn.\n",
      "INFO:tensorflow:Create CheckpointSaverHook.\n",
      "INFO:tensorflow:Graph was finalized.\n",
      "INFO:tensorflow:Running local_init_op.\n",
      "INFO:tensorflow:Done running local_init_op.\n",
      "WARNING:tensorflow:From C:\\Users\\DELL\\Miniconda3\\envs\\tensorflow\\lib\\site-packages\\tensorflow\\python\\training\\monitored_session.py:809: start_queue_runners (from tensorflow.python.training.queue_runner_impl) is deprecated and will be removed in a future version.\n",
      "Instructions for updating:\n",
      "To construct input pipelines, use the `tf.data` module.\n",
      "INFO:tensorflow:Saving checkpoints for 0 into C:\\Users\\DELL\\AppData\\Local\\Temp\\tmp95kmxe4u\\model.ckpt.\n",
      "INFO:tensorflow:loss = 69.31472, step = 1\n",
      "INFO:tensorflow:global_step/sec: 95.8751\n",
      "INFO:tensorflow:loss = 319.1636, step = 101 (1.053 sec)\n",
      "INFO:tensorflow:global_step/sec: 171.86\n",
      "INFO:tensorflow:loss = 229.99475, step = 201 (0.574 sec)\n",
      "INFO:tensorflow:global_step/sec: 171.64\n",
      "INFO:tensorflow:loss = 175.93161, step = 301 (0.581 sec)\n",
      "INFO:tensorflow:global_step/sec: 160.454\n",
      "INFO:tensorflow:loss = 428.00757, step = 401 (0.627 sec)\n",
      "INFO:tensorflow:global_step/sec: 177.035\n",
      "INFO:tensorflow:loss = 116.001396, step = 501 (0.565 sec)\n",
      "INFO:tensorflow:global_step/sec: 168.83\n",
      "INFO:tensorflow:loss = 126.88874, step = 601 (0.584 sec)\n",
      "INFO:tensorflow:global_step/sec: 176.991\n",
      "INFO:tensorflow:loss = 113.87542, step = 701 (0.570 sec)\n",
      "INFO:tensorflow:global_step/sec: 172.76\n",
      "INFO:tensorflow:loss = 34.962883, step = 801 (0.581 sec)\n",
      "INFO:tensorflow:global_step/sec: 174.271\n",
      "INFO:tensorflow:loss = 44.282196, step = 901 (0.571 sec)\n",
      "INFO:tensorflow:global_step/sec: 175.028\n",
      "INFO:tensorflow:loss = 418.94766, step = 1001 (0.572 sec)\n",
      "INFO:tensorflow:global_step/sec: 166.16\n",
      "INFO:tensorflow:loss = 105.396515, step = 1101 (0.601 sec)\n",
      "INFO:tensorflow:global_step/sec: 177.701\n",
      "INFO:tensorflow:loss = 53.711685, step = 1201 (0.567 sec)\n",
      "INFO:tensorflow:global_step/sec: 168.193\n",
      "INFO:tensorflow:loss = 71.93312, step = 1301 (0.592 sec)\n",
      "INFO:tensorflow:global_step/sec: 174.292\n",
      "INFO:tensorflow:loss = 46.91791, step = 1401 (0.574 sec)\n",
      "INFO:tensorflow:global_step/sec: 173.673\n",
      "INFO:tensorflow:loss = 81.76437, step = 1501 (0.576 sec)\n",
      "INFO:tensorflow:global_step/sec: 135.295\n",
      "INFO:tensorflow:loss = 38.14211, step = 1601 (0.743 sec)\n",
      "INFO:tensorflow:global_step/sec: 109.236\n",
      "INFO:tensorflow:loss = 36.108845, step = 1701 (0.917 sec)\n",
      "INFO:tensorflow:global_step/sec: 90.1836\n",
      "INFO:tensorflow:loss = 29.899656, step = 1801 (1.112 sec)\n",
      "INFO:tensorflow:global_step/sec: 94.3974\n",
      "INFO:tensorflow:loss = 161.07312, step = 1901 (1.056 sec)\n",
      "INFO:tensorflow:global_step/sec: 110.022\n",
      "INFO:tensorflow:loss = 475.3465, step = 2001 (0.903 sec)\n",
      "INFO:tensorflow:global_step/sec: 161.687\n",
      "INFO:tensorflow:loss = 35.07792, step = 2101 (0.617 sec)\n",
      "INFO:tensorflow:global_step/sec: 159.829\n",
      "INFO:tensorflow:loss = 41.294834, step = 2201 (0.631 sec)\n",
      "INFO:tensorflow:global_step/sec: 159.732\n",
      "INFO:tensorflow:loss = 38.334938, step = 2301 (0.619 sec)\n",
      "INFO:tensorflow:global_step/sec: 160.574\n",
      "INFO:tensorflow:loss = 311.71548, step = 2401 (0.627 sec)\n",
      "INFO:tensorflow:global_step/sec: 160.333\n",
      "INFO:tensorflow:loss = 110.21141, step = 2501 (0.625 sec)\n",
      "INFO:tensorflow:global_step/sec: 162.285\n",
      "INFO:tensorflow:loss = 57.713257, step = 2601 (0.614 sec)\n",
      "INFO:tensorflow:global_step/sec: 158.406\n",
      "INFO:tensorflow:loss = 107.9112, step = 2701 (0.632 sec)\n",
      "INFO:tensorflow:global_step/sec: 157.945\n",
      "INFO:tensorflow:loss = 99.88759, step = 2801 (0.630 sec)\n",
      "INFO:tensorflow:global_step/sec: 158.499\n",
      "INFO:tensorflow:loss = 53.328243, step = 2901 (0.637 sec)\n",
      "INFO:tensorflow:global_step/sec: 154.341\n",
      "INFO:tensorflow:loss = 44.96291, step = 3001 (0.643 sec)\n",
      "INFO:tensorflow:global_step/sec: 155.789\n",
      "INFO:tensorflow:loss = 33.833027, step = 3101 (0.645 sec)\n",
      "INFO:tensorflow:global_step/sec: 157.806\n",
      "INFO:tensorflow:loss = 41.67551, step = 3201 (0.630 sec)\n",
      "INFO:tensorflow:global_step/sec: 161.243\n",
      "INFO:tensorflow:loss = 183.21375, step = 3301 (0.622 sec)\n",
      "INFO:tensorflow:global_step/sec: 158.762\n",
      "INFO:tensorflow:loss = 31.807055, step = 3401 (0.630 sec)\n",
      "INFO:tensorflow:global_step/sec: 158.043\n",
      "INFO:tensorflow:loss = 47.141205, step = 3501 (0.636 sec)\n",
      "INFO:tensorflow:global_step/sec: 159.125\n",
      "INFO:tensorflow:loss = 25.499092, step = 3601 (0.628 sec)\n",
      "INFO:tensorflow:global_step/sec: 158.675\n",
      "INFO:tensorflow:loss = 64.2642, step = 3701 (0.628 sec)\n",
      "INFO:tensorflow:global_step/sec: 161.798\n",
      "INFO:tensorflow:loss = 32.909267, step = 3801 (0.615 sec)\n",
      "INFO:tensorflow:global_step/sec: 158.843\n",
      "INFO:tensorflow:loss = 55.64987, step = 3901 (0.627 sec)\n",
      "INFO:tensorflow:global_step/sec: 154.83\n",
      "INFO:tensorflow:loss = 70.54125, step = 4001 (0.654 sec)\n",
      "INFO:tensorflow:global_step/sec: 159.744\n",
      "INFO:tensorflow:loss = 56.089226, step = 4101 (0.624 sec)\n",
      "INFO:tensorflow:global_step/sec: 158.876\n",
      "INFO:tensorflow:loss = 27.869007, step = 4201 (0.624 sec)\n",
      "INFO:tensorflow:global_step/sec: 122.08\n",
      "INFO:tensorflow:loss = 41.78159, step = 4301 (0.828 sec)\n",
      "INFO:tensorflow:global_step/sec: 104.805\n",
      "INFO:tensorflow:loss = 26.201752, step = 4401 (0.955 sec)\n",
      "INFO:tensorflow:global_step/sec: 138.667\n",
      "INFO:tensorflow:loss = 139.2614, step = 4501 (0.717 sec)\n",
      "INFO:tensorflow:global_step/sec: 136.234\n",
      "INFO:tensorflow:loss = 80.67407, step = 4601 (0.735 sec)\n",
      "INFO:tensorflow:global_step/sec: 150.79\n",
      "INFO:tensorflow:loss = 150.77715, step = 4701 (0.665 sec)\n",
      "INFO:tensorflow:global_step/sec: 144.625\n",
      "INFO:tensorflow:loss = 54.965954, step = 4801 (0.703 sec)\n",
      "INFO:tensorflow:global_step/sec: 96.7788\n",
      "INFO:tensorflow:loss = 43.43484, step = 4901 (1.028 sec)\n",
      "INFO:tensorflow:global_step/sec: 117.195\n",
      "INFO:tensorflow:loss = 29.04562, step = 5001 (0.838 sec)\n",
      "INFO:tensorflow:global_step/sec: 150.986\n",
      "INFO:tensorflow:loss = 429.53543, step = 5101 (0.667 sec)\n",
      "INFO:tensorflow:global_step/sec: 124.575\n",
      "INFO:tensorflow:loss = 38.042755, step = 5201 (0.804 sec)\n",
      "INFO:tensorflow:global_step/sec: 160.561\n",
      "INFO:tensorflow:loss = 63.81573, step = 5301 (0.624 sec)\n",
      "INFO:tensorflow:global_step/sec: 165.78\n",
      "INFO:tensorflow:loss = 53.666622, step = 5401 (0.604 sec)\n",
      "INFO:tensorflow:global_step/sec: 108.849\n",
      "INFO:tensorflow:loss = 37.965515, step = 5501 (0.921 sec)\n",
      "INFO:tensorflow:global_step/sec: 97.8911\n",
      "INFO:tensorflow:loss = 33.079514, step = 5601 (1.019 sec)\n",
      "INFO:tensorflow:global_step/sec: 157.978\n",
      "INFO:tensorflow:loss = 72.45306, step = 5701 (0.631 sec)\n",
      "INFO:tensorflow:global_step/sec: 162.64\n",
      "INFO:tensorflow:loss = 39.950645, step = 5801 (0.614 sec)\n",
      "INFO:tensorflow:global_step/sec: 146.624\n",
      "INFO:tensorflow:loss = 33.00343, step = 5901 (0.682 sec)\n",
      "INFO:tensorflow:global_step/sec: 166.658\n"
     ]
    },
    {
     "name": "stdout",
     "output_type": "stream",
     "text": [
      "INFO:tensorflow:loss = 34.79779, step = 6001 (0.604 sec)\n",
      "INFO:tensorflow:global_step/sec: 163.823\n",
      "INFO:tensorflow:loss = 28.21157, step = 6101 (0.613 sec)\n",
      "INFO:tensorflow:global_step/sec: 142.393\n",
      "INFO:tensorflow:loss = 26.745163, step = 6201 (0.697 sec)\n",
      "INFO:tensorflow:global_step/sec: 147.668\n",
      "INFO:tensorflow:loss = 44.89107, step = 6301 (0.692 sec)\n",
      "INFO:tensorflow:global_step/sec: 155.29\n",
      "INFO:tensorflow:loss = 96.27379, step = 6401 (0.626 sec)\n",
      "INFO:tensorflow:global_step/sec: 159.798\n",
      "INFO:tensorflow:loss = 30.170925, step = 6501 (0.637 sec)\n",
      "INFO:tensorflow:global_step/sec: 130.577\n",
      "INFO:tensorflow:loss = 52.751213, step = 6601 (0.759 sec)\n",
      "INFO:tensorflow:global_step/sec: 148.348\n",
      "INFO:tensorflow:loss = 175.03592, step = 6701 (0.674 sec)\n",
      "INFO:tensorflow:global_step/sec: 163.783\n",
      "INFO:tensorflow:loss = 33.78681, step = 6801 (0.609 sec)\n",
      "INFO:tensorflow:global_step/sec: 153.845\n",
      "INFO:tensorflow:loss = 59.56183, step = 6901 (0.660 sec)\n",
      "INFO:tensorflow:global_step/sec: 151.387\n",
      "INFO:tensorflow:loss = 36.981987, step = 7001 (0.651 sec)\n",
      "INFO:tensorflow:global_step/sec: 157.556\n",
      "INFO:tensorflow:loss = 50.02125, step = 7101 (0.641 sec)\n",
      "INFO:tensorflow:global_step/sec: 115.735\n",
      "INFO:tensorflow:loss = 132.56432, step = 7201 (0.858 sec)\n",
      "INFO:tensorflow:global_step/sec: 141.971\n",
      "INFO:tensorflow:loss = 75.775345, step = 7301 (0.710 sec)\n",
      "INFO:tensorflow:global_step/sec: 96.136\n",
      "INFO:tensorflow:loss = 30.522198, step = 7401 (1.034 sec)\n",
      "INFO:tensorflow:global_step/sec: 150.347\n",
      "INFO:tensorflow:loss = 31.930334, step = 7501 (0.697 sec)\n",
      "INFO:tensorflow:global_step/sec: 139.196\n",
      "INFO:tensorflow:loss = 30.56254, step = 7601 (0.685 sec)\n",
      "INFO:tensorflow:global_step/sec: 153.179\n",
      "INFO:tensorflow:loss = 121.1874, step = 7701 (0.658 sec)\n",
      "INFO:tensorflow:global_step/sec: 99.7833\n",
      "INFO:tensorflow:loss = 44.23687, step = 7801 (1.006 sec)\n",
      "INFO:tensorflow:global_step/sec: 127.86\n",
      "INFO:tensorflow:loss = 35.955997, step = 7901 (0.775 sec)\n",
      "INFO:tensorflow:global_step/sec: 172.256\n",
      "INFO:tensorflow:loss = 38.123005, step = 8001 (0.578 sec)\n",
      "INFO:tensorflow:global_step/sec: 169.137\n",
      "INFO:tensorflow:loss = 38.01811, step = 8101 (0.594 sec)\n",
      "INFO:tensorflow:global_step/sec: 171.705\n",
      "INFO:tensorflow:loss = 37.687447, step = 8201 (0.579 sec)\n",
      "INFO:tensorflow:global_step/sec: 160.865\n",
      "INFO:tensorflow:loss = 59.643898, step = 8301 (0.626 sec)\n",
      "INFO:tensorflow:global_step/sec: 136.474\n",
      "INFO:tensorflow:loss = 31.050003, step = 8401 (0.733 sec)\n",
      "INFO:tensorflow:global_step/sec: 137.94\n",
      "INFO:tensorflow:loss = 38.61508, step = 8501 (0.733 sec)\n",
      "INFO:tensorflow:global_step/sec: 96.395\n",
      "INFO:tensorflow:loss = 120.57352, step = 8601 (1.036 sec)\n",
      "INFO:tensorflow:global_step/sec: 88.686\n",
      "INFO:tensorflow:loss = 44.30824, step = 8701 (1.119 sec)\n",
      "INFO:tensorflow:global_step/sec: 84.8671\n",
      "INFO:tensorflow:loss = 30.979576, step = 8801 (1.187 sec)\n",
      "INFO:tensorflow:global_step/sec: 115.179\n",
      "INFO:tensorflow:loss = 45.972298, step = 8901 (0.858 sec)\n",
      "INFO:tensorflow:global_step/sec: 153.984\n",
      "INFO:tensorflow:loss = 83.673035, step = 9001 (0.652 sec)\n",
      "INFO:tensorflow:global_step/sec: 144.775\n",
      "INFO:tensorflow:loss = 470.93985, step = 9101 (0.691 sec)\n",
      "INFO:tensorflow:global_step/sec: 172.436\n",
      "INFO:tensorflow:loss = 30.380732, step = 9201 (0.578 sec)\n",
      "INFO:tensorflow:global_step/sec: 172.573\n",
      "INFO:tensorflow:loss = 34.87597, step = 9301 (0.580 sec)\n",
      "INFO:tensorflow:global_step/sec: 163.314\n",
      "INFO:tensorflow:loss = 44.175144, step = 9401 (0.613 sec)\n",
      "INFO:tensorflow:global_step/sec: 161.575\n",
      "INFO:tensorflow:loss = 53.066456, step = 9501 (0.619 sec)\n",
      "INFO:tensorflow:global_step/sec: 174.52\n",
      "INFO:tensorflow:loss = 17.764526, step = 9601 (0.573 sec)\n",
      "INFO:tensorflow:global_step/sec: 170.504\n",
      "INFO:tensorflow:loss = 83.917076, step = 9701 (0.585 sec)\n",
      "INFO:tensorflow:global_step/sec: 172.224\n",
      "INFO:tensorflow:loss = 69.723656, step = 9801 (0.582 sec)\n",
      "INFO:tensorflow:global_step/sec: 167.194\n",
      "INFO:tensorflow:loss = 58.522614, step = 9901 (0.594 sec)\n",
      "INFO:tensorflow:Saving checkpoints for 10000 into C:\\Users\\DELL\\AppData\\Local\\Temp\\tmp95kmxe4u\\model.ckpt.\n",
      "INFO:tensorflow:Loss for final step: 57.33364.\n"
     ]
    },
    {
     "data": {
      "text/plain": [
       "<tensorflow_estimator.python.estimator.canned.linear.LinearClassifier at 0x25818b50080>"
      ]
     },
     "execution_count": 30,
     "metadata": {},
     "output_type": "execute_result"
    }
   ],
   "source": [
    "model.train(input_fn=input_func, steps=10000)"
   ]
  },
  {
   "cell_type": "code",
   "execution_count": 31,
   "metadata": {},
   "outputs": [],
   "source": [
    "pred_fun = tf.estimator.inputs.pandas_input_fn(x=X_test, batch_size=len(X_test), shuffle= False)"
   ]
  },
  {
   "cell_type": "code",
   "execution_count": 32,
   "metadata": {},
   "outputs": [
    {
     "name": "stdout",
     "output_type": "stream",
     "text": [
      "INFO:tensorflow:Calling model_fn.\n",
      "INFO:tensorflow:Done calling model_fn.\n",
      "INFO:tensorflow:Graph was finalized.\n",
      "WARNING:tensorflow:From C:\\Users\\DELL\\Miniconda3\\envs\\tensorflow\\lib\\site-packages\\tensorflow\\python\\training\\saver.py:1266: checkpoint_exists (from tensorflow.python.training.checkpoint_management) is deprecated and will be removed in a future version.\n",
      "Instructions for updating:\n",
      "Use standard file APIs to check for files with this prefix.\n",
      "INFO:tensorflow:Restoring parameters from C:\\Users\\DELL\\AppData\\Local\\Temp\\tmp95kmxe4u\\model.ckpt-10000\n",
      "INFO:tensorflow:Running local_init_op.\n",
      "INFO:tensorflow:Done running local_init_op.\n"
     ]
    }
   ],
   "source": [
    "prediction = list(model.predict(input_fn=pred_fun))"
   ]
  },
  {
   "cell_type": "code",
   "execution_count": 34,
   "metadata": {},
   "outputs": [
    {
     "data": {
      "text/plain": [
       "{'logits': array([-4.218417], dtype=float32),\n",
       " 'logistic': array([0.01450834], dtype=float32),\n",
       " 'probabilities': array([0.9854917 , 0.01450834], dtype=float32),\n",
       " 'class_ids': array([0], dtype=int64),\n",
       " 'classes': array([b'0'], dtype=object)}"
      ]
     },
     "execution_count": 34,
     "metadata": {},
     "output_type": "execute_result"
    }
   ],
   "source": [
    "prediction[0]"
   ]
  },
  {
   "cell_type": "code",
   "execution_count": 35,
   "metadata": {},
   "outputs": [],
   "source": [
    "final_preds = []\n",
    "for pred in prediction:\n",
    "    final_preds.append(pred['class_ids'][0])"
   ]
  },
  {
   "cell_type": "code",
   "execution_count": 37,
   "metadata": {},
   "outputs": [
    {
     "data": {
      "text/plain": [
       "[0, 0, 1, 0, 0, 1, 1, 0, 0, 0]"
      ]
     },
     "execution_count": 37,
     "metadata": {},
     "output_type": "execute_result"
    }
   ],
   "source": [
    "final_preds[:10]"
   ]
  },
  {
   "cell_type": "code",
   "execution_count": 38,
   "metadata": {},
   "outputs": [],
   "source": [
    "from sklearn.metrics import classification_report"
   ]
  },
  {
   "cell_type": "code",
   "execution_count": 40,
   "metadata": {},
   "outputs": [
    {
     "name": "stdout",
     "output_type": "stream",
     "text": [
      "              precision    recall  f1-score   support\n",
      "\n",
      "           0       0.85      0.96      0.90      8196\n",
      "           1       0.77      0.48      0.59      2550\n",
      "\n",
      "   micro avg       0.84      0.84      0.84     10746\n",
      "   macro avg       0.81      0.72      0.75     10746\n",
      "weighted avg       0.83      0.84      0.83     10746\n",
      "\n"
     ]
    }
   ],
   "source": [
    "print(classification_report(y_test, final_preds))"
   ]
  },
  {
   "cell_type": "code",
   "execution_count": null,
   "metadata": {},
   "outputs": [],
   "source": []
  }
 ],
 "metadata": {
  "kernelspec": {
   "display_name": "Python 3",
   "language": "python",
   "name": "python3"
  },
  "language_info": {
   "codemirror_mode": {
    "name": "ipython",
    "version": 3
   },
   "file_extension": ".py",
   "mimetype": "text/x-python",
   "name": "python",
   "nbconvert_exporter": "python",
   "pygments_lexer": "ipython3",
   "version": "3.7.2"
  }
 },
 "nbformat": 4,
 "nbformat_minor": 2
}
